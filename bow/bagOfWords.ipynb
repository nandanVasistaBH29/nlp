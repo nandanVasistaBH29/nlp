{
 "cells": [
  {
   "cell_type": "code",
   "execution_count": 2,
   "id": "14a841ec",
   "metadata": {},
   "outputs": [],
   "source": [
    "paragraph= \"\"\"\n",
    "Narendra Damodardas Modi (Gujarati: [ˈnəɾendɾə dɑmodəɾˈdɑs ˈmodiː] (listen); born 17 September 1950)[b] is an Indian politician serving as the 14th and current Prime Minister of India since 2014. Modi was the Chief Minister of Gujarat from 2001 to 2014 and is the Member of Parliament from Varanasi. He is a member of the Bharatiya Janata Party (BJP) and of the Rashtriya Swayamsevak Sangh (RSS), a right-wing Hindu nationalist paramilitary volunteer organisation. He is the longest serving prime minister from outside the Indian National Congress.\n",
    "\n",
    "Modi was born and raised in Vadnagar in northeastern Gujarat, where he completed his secondary education. He was introduced to the RSS at age eight. He has reminisced about helping out after school at his father's tea stall at the Vadnagar railway station. At age 18, Modi was married to Jashodaben Chimanlal Modi, whom he abandoned soon after. He first publicly acknowledged her as his wife more than four decades later when required to do so by Indian law, but has made no contact with her since. Modi has asserted he had travelled in northern India for two years after leaving his parental home, visiting a number of religious centres, but few details of his travels have emerged. Upon his return to Gujarat in 1971, he became a full-time worker for the RSS. After the state of emergency was declared by prime minister Indira Gandhi in 1975, Modi went into hiding. The RSS assigned him to the BJP in 1985 and he held several positions within the party hierarchy until 2001, rising to the rank of general secretary.[c]\n",
    "\n",
    "Modi was appointed Chief Minister of Gujarat in 2001 due to Keshubhai Patel's failing health and poor public image following the earthquake in Bhuj. Modi was elected to the legislative assembly soon after. His administration has been considered complicit in the 2002 Gujarat riots in which 1044 people were killed, three-quarters of whom were Muslim,[d] or otherwise criticised for its management of the crisis. A Special Investigation Team appointed by the Supreme Court of India found no evidence to initiate prosecution proceedings against Modi personally.[e] While his policies as chief minister—credited with encouraging economic growth—have received praise, his administration was criticised for failing to significantly improve health, poverty and education indices in the state.[f]\n",
    "\n",
    "Modi led the BJP in the 2014 general election which gave the party a majority in the lower house of Indian parliament, the Lok Sabha, the first time for any single party since 1984. Modi's administration has tried to raise foreign direct investment in the Indian economy and reduced spending on healthcare, education, and social welfare programmes. Modi centralised power by abolishing the Planning Commission and replacing it with the NITI Aayog. He began a high-profile sanitation campaign, controversially initiated a demonetisation of high-denomination banknotes and a transformation of the taxation regime, and weakened or abolished environmental and labour laws. He oversaw the country's response to the COVID-19 pandemic. As Prime Minister, Modi has received consistently high approval ratings.[12][13][14]\n",
    "\n",
    "Under Modi's tenure, India has experienced democratic backsliding.[15][16][g] Following his party's victory in the 2019 general election, his administration revoked the special status of Jammu and Kashmir, introduced the Citizenship Amendment Act and three controversial farm laws, which prompted widespread protests and sit-ins across the country, resulting in a formal repeal of the latter. Described as engineering a political realignment towards right-wing politics, Modi remains a figure of controversy domestically and internationally over his Hindu nationalist beliefs and his handling of the 2002 Gujarat riots, cited as evidence of an exclusionary social agenda.[h]\n",
    "\"\"\""
   ]
  },
  {
   "cell_type": "code",
   "execution_count": 3,
   "id": "cf83bdbb",
   "metadata": {},
   "outputs": [
    {
     "data": {
      "text/plain": [
       "\"\\nNarendra Damodardas Modi (Gujarati: [ˈnəɾendɾə dɑmodəɾˈdɑs ˈmodiː] (listen); born 17 September 1950)[b] is an Indian politician serving as the 14th and current Prime Minister of India since 2014. Modi was the Chief Minister of Gujarat from 2001 to 2014 and is the Member of Parliament from Varanasi. He is a member of the Bharatiya Janata Party (BJP) and of the Rashtriya Swayamsevak Sangh (RSS), a right-wing Hindu nationalist paramilitary volunteer organisation. He is the longest serving prime minister from outside the Indian National Congress.\\n\\nModi was born and raised in Vadnagar in northeastern Gujarat, where he completed his secondary education. He was introduced to the RSS at age eight. He has reminisced about helping out after school at his father's tea stall at the Vadnagar railway station. At age 18, Modi was married to Jashodaben Chimanlal Modi, whom he abandoned soon after. He first publicly acknowledged her as his wife more than four decades later when required to do so by Indian law, but has made no contact with her since. Modi has asserted he had travelled in northern India for two years after leaving his parental home, visiting a number of religious centres, but few details of his travels have emerged. Upon his return to Gujarat in 1971, he became a full-time worker for the RSS. After the state of emergency was declared by prime minister Indira Gandhi in 1975, Modi went into hiding. The RSS assigned him to the BJP in 1985 and he held several positions within the party hierarchy until 2001, rising to the rank of general secretary.[c]\\n\\nModi was appointed Chief Minister of Gujarat in 2001 due to Keshubhai Patel's failing health and poor public image following the earthquake in Bhuj. Modi was elected to the legislative assembly soon after. His administration has been considered complicit in the 2002 Gujarat riots in which 1044 people were killed, three-quarters of whom were Muslim,[d] or otherwise criticised for its management of the crisis. A Special Investigation Team appointed by the Supreme Court of India found no evidence to initiate prosecution proceedings against Modi personally.[e] While his policies as chief minister—credited with encouraging economic growth—have received praise, his administration was criticised for failing to significantly improve health, poverty and education indices in the state.[f]\\n\\nModi led the BJP in the 2014 general election which gave the party a majority in the lower house of Indian parliament, the Lok Sabha, the first time for any single party since 1984. Modi's administration has tried to raise foreign direct investment in the Indian economy and reduced spending on healthcare, education, and social welfare programmes. Modi centralised power by abolishing the Planning Commission and replacing it with the NITI Aayog. He began a high-profile sanitation campaign, controversially initiated a demonetisation of high-denomination banknotes and a transformation of the taxation regime, and weakened or abolished environmental and labour laws. He oversaw the country's response to the COVID-19 pandemic. As Prime Minister, Modi has received consistently high approval ratings.[12][13][14]\\n\\nUnder Modi's tenure, India has experienced democratic backsliding.[15][16][g] Following his party's victory in the 2019 general election, his administration revoked the special status of Jammu and Kashmir, introduced the Citizenship Amendment Act and three controversial farm laws, which prompted widespread protests and sit-ins across the country, resulting in a formal repeal of the latter. Described as engineering a political realignment towards right-wing politics, Modi remains a figure of controversy domestically and internationally over his Hindu nationalist beliefs and his handling of the 2002 Gujarat riots, cited as evidence of an exclusionary social agenda.[h]\\n\""
      ]
     },
     "execution_count": 3,
     "metadata": {},
     "output_type": "execute_result"
    }
   ],
   "source": [
    "paragraph"
   ]
  },
  {
   "cell_type": "code",
   "execution_count": 7,
   "id": "42bf5ab6",
   "metadata": {},
   "outputs": [],
   "source": [
    "import nltk\n",
    "from nltk.stem import PorterStemmer\n",
    "from nltk.corpus import stopwords "
   ]
  },
  {
   "cell_type": "code",
   "execution_count": 23,
   "id": "75899693",
   "metadata": {},
   "outputs": [
    {
     "name": "stderr",
     "output_type": "stream",
     "text": [
      "[nltk_data] Downloading package punkt to /Users/nandan/nltk_data...\n",
      "[nltk_data]   Package punkt is already up-to-date!\n"
     ]
    },
    {
     "data": {
      "text/plain": [
       "['\\nNarendra Damodardas Modi (Gujarati: [ˈnəɾendɾə dɑmodəɾˈdɑs ˈmodiː] (listen); born 17 September 1950)[b] is an Indian politician serving as the 14th and current Prime Minister of India since 2014.',\n",
       " 'Modi was the Chief Minister of Gujarat from 2001 to 2014 and is the Member of Parliament from Varanasi.',\n",
       " 'He is a member of the Bharatiya Janata Party (BJP) and of the Rashtriya Swayamsevak Sangh (RSS), a right-wing Hindu nationalist paramilitary volunteer organisation.',\n",
       " 'He is the longest serving prime minister from outside the Indian National Congress.',\n",
       " 'Modi was born and raised in Vadnagar in northeastern Gujarat, where he completed his secondary education.',\n",
       " 'He was introduced to the RSS at age eight.',\n",
       " \"He has reminisced about helping out after school at his father's tea stall at the Vadnagar railway station.\",\n",
       " 'At age 18, Modi was married to Jashodaben Chimanlal Modi, whom he abandoned soon after.',\n",
       " 'He first publicly acknowledged her as his wife more than four decades later when required to do so by Indian law, but has made no contact with her since.',\n",
       " 'Modi has asserted he had travelled in northern India for two years after leaving his parental home, visiting a number of religious centres, but few details of his travels have emerged.',\n",
       " 'Upon his return to Gujarat in 1971, he became a full-time worker for the RSS.',\n",
       " 'After the state of emergency was declared by prime minister Indira Gandhi in 1975, Modi went into hiding.',\n",
       " 'The RSS assigned him to the BJP in 1985 and he held several positions within the party hierarchy until 2001, rising to the rank of general secretary.',\n",
       " \"[c]\\n\\nModi was appointed Chief Minister of Gujarat in 2001 due to Keshubhai Patel's failing health and poor public image following the earthquake in Bhuj.\",\n",
       " 'Modi was elected to the legislative assembly soon after.',\n",
       " 'His administration has been considered complicit in the 2002 Gujarat riots in which 1044 people were killed, three-quarters of whom were Muslim,[d] or otherwise criticised for its management of the crisis.',\n",
       " 'A Special Investigation Team appointed by the Supreme Court of India found no evidence to initiate prosecution proceedings against Modi personally.',\n",
       " '[e] While his policies as chief minister—credited with encouraging economic growth—have received praise, his administration was criticised for failing to significantly improve health, poverty and education indices in the state.',\n",
       " '[f]\\n\\nModi led the BJP in the 2014 general election which gave the party a majority in the lower house of Indian parliament, the Lok Sabha, the first time for any single party since 1984.',\n",
       " \"Modi's administration has tried to raise foreign direct investment in the Indian economy and reduced spending on healthcare, education, and social welfare programmes.\",\n",
       " 'Modi centralised power by abolishing the Planning Commission and replacing it with the NITI Aayog.',\n",
       " 'He began a high-profile sanitation campaign, controversially initiated a demonetisation of high-denomination banknotes and a transformation of the taxation regime, and weakened or abolished environmental and labour laws.',\n",
       " \"He oversaw the country's response to the COVID-19 pandemic.\",\n",
       " 'As Prime Minister, Modi has received consistently high approval ratings.',\n",
       " \"[12][13][14]\\n\\nUnder Modi's tenure, India has experienced democratic backsliding.\",\n",
       " \"[15][16][g] Following his party's victory in the 2019 general election, his administration revoked the special status of Jammu and Kashmir, introduced the Citizenship Amendment Act and three controversial farm laws, which prompted widespread protests and sit-ins across the country, resulting in a formal repeal of the latter.\",\n",
       " 'Described as engineering a political realignment towards right-wing politics, Modi remains a figure of controversy domestically and internationally over his Hindu nationalist beliefs and his handling of the 2002 Gujarat riots, cited as evidence of an exclusionary social agenda.',\n",
       " '[h]']"
      ]
     },
     "execution_count": 23,
     "metadata": {},
     "output_type": "execute_result"
    }
   ],
   "source": [
    "## tokenization para->sentences->words\n",
    "nltk.download(\"punkt\")\n",
    "sentences = nltk.sent_tokenize(paragraph)\n",
    "sentences"
   ]
  },
  {
   "cell_type": "code",
   "execution_count": 24,
   "id": "6db1b400",
   "metadata": {},
   "outputs": [
    {
     "data": {
      "text/plain": [
       "'histor'"
      ]
     },
     "execution_count": 24,
     "metadata": {},
     "output_type": "execute_result"
    }
   ],
   "source": [
    "stemmer = PorterStemmer()\n",
    "stemmer.stem('historical','history')  # notice that the word doesn't have any meaning"
   ]
  },
  {
   "cell_type": "code",
   "execution_count": 34,
   "id": "f73f96d1",
   "metadata": {},
   "outputs": [],
   "source": [
    "from nltk.stem import WordNetLemmatizer"
   ]
  },
  {
   "cell_type": "code",
   "execution_count": null,
   "id": "fb86fa38",
   "metadata": {},
   "outputs": [],
   "source": [
    "\n"
   ]
  },
  {
   "cell_type": "code",
   "execution_count": 35,
   "id": "f9f840bc",
   "metadata": {},
   "outputs": [],
   "source": [
    "import re"
   ]
  },
  {
   "cell_type": "code",
   "execution_count": 38,
   "id": "9d06a6b1",
   "metadata": {},
   "outputs": [],
   "source": [
    "corpus=[]\n",
    "for i in range(len(sentences)):\n",
    "    review = re.sub(\"[^a-zA-Z]\",\" \",sentences[i])\n",
    "    review= review.lower()\n",
    "    corpus.append(review)"
   ]
  },
  {
   "cell_type": "code",
   "execution_count": 39,
   "id": "e1d4b425",
   "metadata": {},
   "outputs": [
    {
     "data": {
      "text/plain": [
       "[' narendra damodardas modi  gujarati    n  end   d mod   d s  modi    listen   born    september       b  is an indian politician serving as the   th and current prime minister of india since      ',\n",
       " 'modi was the chief minister of gujarat from      to      and is the member of parliament from varanasi ',\n",
       " 'he is a member of the bharatiya janata party  bjp  and of the rashtriya swayamsevak sangh  rss   a right wing hindu nationalist paramilitary volunteer organisation ',\n",
       " 'he is the longest serving prime minister from outside the indian national congress ',\n",
       " 'modi was born and raised in vadnagar in northeastern gujarat  where he completed his secondary education ',\n",
       " 'he was introduced to the rss at age eight ',\n",
       " 'he has reminisced about helping out after school at his father s tea stall at the vadnagar railway station ',\n",
       " 'at age     modi was married to jashodaben chimanlal modi  whom he abandoned soon after ',\n",
       " 'he first publicly acknowledged her as his wife more than four decades later when required to do so by indian law  but has made no contact with her since ',\n",
       " 'modi has asserted he had travelled in northern india for two years after leaving his parental home  visiting a number of religious centres  but few details of his travels have emerged ',\n",
       " 'upon his return to gujarat in       he became a full time worker for the rss ',\n",
       " 'after the state of emergency was declared by prime minister indira gandhi in       modi went into hiding ',\n",
       " 'the rss assigned him to the bjp in      and he held several positions within the party hierarchy until       rising to the rank of general secretary ',\n",
       " ' c   modi was appointed chief minister of gujarat in      due to keshubhai patel s failing health and poor public image following the earthquake in bhuj ',\n",
       " 'modi was elected to the legislative assembly soon after ',\n",
       " 'his administration has been considered complicit in the      gujarat riots in which      people were killed  three quarters of whom were muslim  d  or otherwise criticised for its management of the crisis ',\n",
       " 'a special investigation team appointed by the supreme court of india found no evidence to initiate prosecution proceedings against modi personally ',\n",
       " ' e  while his policies as chief minister credited with encouraging economic growth have received praise  his administration was criticised for failing to significantly improve health  poverty and education indices in the state ',\n",
       " ' f   modi led the bjp in the      general election which gave the party a majority in the lower house of indian parliament  the lok sabha  the first time for any single party since      ',\n",
       " 'modi s administration has tried to raise foreign direct investment in the indian economy and reduced spending on healthcare  education  and social welfare programmes ',\n",
       " 'modi centralised power by abolishing the planning commission and replacing it with the niti aayog ',\n",
       " 'he began a high profile sanitation campaign  controversially initiated a demonetisation of high denomination banknotes and a transformation of the taxation regime  and weakened or abolished environmental and labour laws ',\n",
       " 'he oversaw the country s response to the covid    pandemic ',\n",
       " 'as prime minister  modi has received consistently high approval ratings ',\n",
       " '              under modi s tenure  india has experienced democratic backsliding ',\n",
       " '         g  following his party s victory in the      general election  his administration revoked the special status of jammu and kashmir  introduced the citizenship amendment act and three controversial farm laws  which prompted widespread protests and sit ins across the country  resulting in a formal repeal of the latter ',\n",
       " 'described as engineering a political realignment towards right wing politics  modi remains a figure of controversy domestically and internationally over his hindu nationalist beliefs and his handling of the      gujarat riots  cited as evidence of an exclusionary social agenda ',\n",
       " ' h ']"
      ]
     },
     "execution_count": 39,
     "metadata": {},
     "output_type": "execute_result"
    }
   ],
   "source": [
    "corpus"
   ]
  },
  {
   "cell_type": "code",
   "execution_count": 51,
   "id": "c1c23054",
   "metadata": {},
   "outputs": [],
   "source": [
    "# stemming \n",
    "stemmed_content = [] \n",
    "for sent in corpus:\n",
    "    words = nltk.word_tokenize(sent)\n",
    "    stemmed_sent = \" \"\n",
    "    for word in words:\n",
    "        # apply stemming on non stop words\n",
    "        if word not in set(stopwords.words('english')):\n",
    "            stemmed_sent += stemmer.stem(word)\n",
    "            stemmed_sent +=\" \"\n",
    "    stemmed_content.append(stemmed_sent)        "
   ]
  },
  {
   "cell_type": "code",
   "execution_count": 52,
   "id": "9bb7332a",
   "metadata": {},
   "outputs": [
    {
     "data": {
      "text/plain": [
       "[' narendra damodarda modi gujarati n end mod modi listen born septemb b indian politician serv th current prime minist india sinc ',\n",
       " ' modi chief minist gujarat member parliament varanasi ',\n",
       " ' member bharatiya janata parti bjp rashtriya swayamsevak sangh rss right wing hindu nationalist paramilitari volunt organis ',\n",
       " ' longest serv prime minist outsid indian nation congress ',\n",
       " ' modi born rais vadnagar northeastern gujarat complet secondari educ ',\n",
       " ' introduc rss age eight ',\n",
       " ' reminisc help school father tea stall vadnagar railway station ',\n",
       " ' age modi marri jashodaben chimanl modi abandon soon ',\n",
       " ' first publicli acknowledg wife four decad later requir indian law made contact sinc ',\n",
       " ' modi assert travel northern india two year leav parent home visit number religi centr detail travel emerg ',\n",
       " ' upon return gujarat becam full time worker rss ',\n",
       " ' state emerg declar prime minist indira gandhi modi went hide ',\n",
       " ' rss assign bjp held sever posit within parti hierarchi rise rank gener secretari ',\n",
       " ' c modi appoint chief minist gujarat due keshubhai patel fail health poor public imag follow earthquak bhuj ',\n",
       " ' modi elect legisl assembl soon ',\n",
       " ' administr consid complicit gujarat riot peopl kill three quarter muslim otherwis criticis manag crisi ',\n",
       " ' special investig team appoint suprem court india found evid initi prosecut proceed modi person ',\n",
       " ' e polici chief minist credit encourag econom growth receiv prais administr criticis fail significantli improv health poverti educ indic state ',\n",
       " ' f modi led bjp gener elect gave parti major lower hous indian parliament lok sabha first time singl parti sinc ',\n",
       " ' modi administr tri rais foreign direct invest indian economi reduc spend healthcar educ social welfar programm ',\n",
       " ' modi centralis power abolish plan commiss replac niti aayog ',\n",
       " ' began high profil sanit campaign controversi initi demonetis high denomin banknot transform taxat regim weaken abolish environment labour law ',\n",
       " ' oversaw countri respons covid pandem ',\n",
       " ' prime minist modi receiv consist high approv rate ',\n",
       " ' modi tenur india experienc democrat backslid ',\n",
       " ' g follow parti victori gener elect administr revok special statu jammu kashmir introduc citizenship amend act three controversi farm law prompt widespread protest sit in across countri result formal repeal latter ',\n",
       " ' describ engin polit realign toward right wing polit modi remain figur controversi domest intern hindu nationalist belief handl gujarat riot cite evid exclusionari social agenda ',\n",
       " ' h ']"
      ]
     },
     "execution_count": 52,
     "metadata": {},
     "output_type": "execute_result"
    }
   ],
   "source": [
    "stemmed_content"
   ]
  },
  {
   "cell_type": "code",
   "execution_count": 45,
   "id": "b8100bd3",
   "metadata": {},
   "outputs": [],
   "source": [
    "from sklearn.feature_extraction.text import CountVectorizer"
   ]
  },
  {
   "cell_type": "code",
   "execution_count": 46,
   "id": "65cdb563",
   "metadata": {},
   "outputs": [],
   "source": [
    "cv = CountVectorizer()"
   ]
  },
  {
   "cell_type": "code",
   "execution_count": 55,
   "id": "23b19e08",
   "metadata": {},
   "outputs": [],
   "source": [
    "X = cv.fit_transform(stemmed_content)"
   ]
  },
  {
   "cell_type": "code",
   "execution_count": 58,
   "id": "596b203a",
   "metadata": {},
   "outputs": [
    {
     "name": "stdout",
     "output_type": "stream",
     "text": [
      "[[0 0 0 0 0 0 0 0 0 0 0 0 0 0 0 0 0 0 0 0 0 0 0 1 0 0 0 0 0 0 0 0 0 0 0 0\n",
      "  0 0 0 0 0 0 0 0 0 1 1 0 0 0 0 0 0 0 0 0 0 0 0 0 0 0 0 0 0 1 0 0 0 0 0 0\n",
      "  0 0 0 0 0 0 0 0 0 0 0 0 0 0 0 1 0 0 0 0 0 0 0 0 0 0 0 0 0 0 1 1 0 0 0 0\n",
      "  0 0 0 0 0 0 0 0 0 0 0 0 0 0 0 0 1 0 0 0 0 0 0 0 0 1 1 2 0 1 0 0 0 0 0 0\n",
      "  0 0 0 0 0 0 0 0 0 0 0 0 0 0 0 1 0 0 0 0 0 1 0 0 0 0 0 0 0 0 0 0 0 0 0 0\n",
      "  0 0 0 0 0 0 0 0 0 0 0 0 0 0 0 0 0 0 0 0 0 0 0 0 1 1 0 0 1 0 0 0 0 0 0 0\n",
      "  0 0 0 0 0 0 0 0 0 1 0 0 0 0 0 0 0 0 0 0 0 0 0 0 0 0 0 0 0 0 0 0]]\n"
     ]
    }
   ],
   "source": [
    "print(X[0].toarray())"
   ]
  },
  {
   "cell_type": "code",
   "execution_count": 59,
   "id": "0e690b2d",
   "metadata": {},
   "outputs": [
    {
     "data": {
      "text/plain": [
       "' narendra damodarda modi gujarati n end mod modi listen born septemb b indian politician serv th current prime minist india sinc '"
      ]
     },
     "execution_count": 59,
     "metadata": {},
     "output_type": "execute_result"
    }
   ],
   "source": [
    "stemmed_content[0]"
   ]
  },
  {
   "cell_type": "code",
   "execution_count": 61,
   "id": "ae28db17",
   "metadata": {},
   "outputs": [
    {
     "data": {
      "text/plain": [
       "{'narendra': 137,\n",
       " 'damodarda': 46,\n",
       " 'modi': 135,\n",
       " 'gujarati': 87,\n",
       " 'end': 65,\n",
       " 'mod': 134,\n",
       " 'listen': 124,\n",
       " 'born': 23,\n",
       " 'septemb': 204,\n",
       " 'indian': 103,\n",
       " 'politician': 159,\n",
       " 'serv': 205,\n",
       " 'th': 225,\n",
       " 'current': 45,\n",
       " 'prime': 165,\n",
       " 'minist': 133,\n",
       " 'india': 102,\n",
       " 'sinc': 208,\n",
       " 'chief': 27,\n",
       " 'gujarat': 86,\n",
       " 'member': 132,\n",
       " 'parliament': 151,\n",
       " 'varanasi': 235,\n",
       " 'bharatiya': 20,\n",
       " 'janata': 112,\n",
       " 'parti': 152,\n",
       " 'bjp': 22,\n",
       " 'rashtriya': 178,\n",
       " 'swayamsevak': 220,\n",
       " 'sangh': 199,\n",
       " 'rss': 197,\n",
       " 'right': 194,\n",
       " 'wing': 244,\n",
       " 'hindu': 96,\n",
       " 'nationalist': 139,\n",
       " 'paramilitari': 149,\n",
       " 'volunt': 238,\n",
       " 'organis': 144,\n",
       " 'longest': 126,\n",
       " 'outsid': 146,\n",
       " 'nation': 138,\n",
       " 'congress': 34,\n",
       " 'rais': 176,\n",
       " 'vadnagar': 234,\n",
       " 'northeastern': 141,\n",
       " 'complet': 32,\n",
       " 'secondari': 202,\n",
       " 'educ': 60,\n",
       " 'introduc': 108,\n",
       " 'age': 7,\n",
       " 'eight': 61,\n",
       " 'reminisc': 186,\n",
       " 'help': 92,\n",
       " 'school': 201,\n",
       " 'father': 73,\n",
       " 'tea': 222,\n",
       " 'stall': 215,\n",
       " 'railway': 175,\n",
       " 'station': 217,\n",
       " 'marri': 131,\n",
       " 'jashodaben': 113,\n",
       " 'chimanl': 28,\n",
       " 'abandon': 1,\n",
       " 'soon': 212,\n",
       " 'first': 75,\n",
       " 'publicli': 173,\n",
       " 'acknowledg': 3,\n",
       " 'wife': 243,\n",
       " 'four': 80,\n",
       " 'decad': 47,\n",
       " 'later': 118,\n",
       " 'requir': 189,\n",
       " 'law': 120,\n",
       " 'made': 128,\n",
       " 'contact': 37,\n",
       " 'assert': 13,\n",
       " 'travel': 230,\n",
       " 'northern': 142,\n",
       " 'two': 232,\n",
       " 'year': 247,\n",
       " 'leav': 121,\n",
       " 'parent': 150,\n",
       " 'home': 97,\n",
       " 'visit': 237,\n",
       " 'number': 143,\n",
       " 'religi': 184,\n",
       " 'centr': 25,\n",
       " 'detail': 53,\n",
       " 'emerg': 63,\n",
       " 'upon': 233,\n",
       " 'return': 192,\n",
       " 'becam': 17,\n",
       " 'full': 81,\n",
       " 'time': 227,\n",
       " 'worker': 246,\n",
       " 'state': 216,\n",
       " 'declar': 48,\n",
       " 'indira': 105,\n",
       " 'gandhi': 82,\n",
       " 'went': 241,\n",
       " 'hide': 93,\n",
       " 'assign': 14,\n",
       " 'held': 91,\n",
       " 'sever': 206,\n",
       " 'posit': 161,\n",
       " 'within': 245,\n",
       " 'hierarchi': 94,\n",
       " 'rise': 196,\n",
       " 'rank': 177,\n",
       " 'gener': 84,\n",
       " 'secretari': 203,\n",
       " 'appoint': 10,\n",
       " 'due': 56,\n",
       " 'keshubhai': 115,\n",
       " 'patel': 153,\n",
       " 'fail': 71,\n",
       " 'health': 89,\n",
       " 'poor': 160,\n",
       " 'public': 172,\n",
       " 'imag': 99,\n",
       " 'follow': 76,\n",
       " 'earthquak': 57,\n",
       " 'bhuj': 21,\n",
       " 'elect': 62,\n",
       " 'legisl': 123,\n",
       " 'assembl': 12,\n",
       " 'administr': 6,\n",
       " 'consid': 35,\n",
       " 'complicit': 33,\n",
       " 'riot': 195,\n",
       " 'peopl': 154,\n",
       " 'kill': 116,\n",
       " 'three': 226,\n",
       " 'quarter': 174,\n",
       " 'muslim': 136,\n",
       " 'otherwis': 145,\n",
       " 'criticis': 44,\n",
       " 'manag': 130,\n",
       " 'crisi': 43,\n",
       " 'special': 213,\n",
       " 'investig': 110,\n",
       " 'team': 223,\n",
       " 'suprem': 219,\n",
       " 'court': 40,\n",
       " 'found': 79,\n",
       " 'evid': 68,\n",
       " 'initi': 106,\n",
       " 'prosecut': 170,\n",
       " 'proceed': 166,\n",
       " 'person': 155,\n",
       " 'polici': 157,\n",
       " 'credit': 42,\n",
       " 'encourag': 64,\n",
       " 'econom': 58,\n",
       " 'growth': 85,\n",
       " 'receiv': 181,\n",
       " 'prais': 164,\n",
       " 'significantli': 207,\n",
       " 'improv': 100,\n",
       " 'poverti': 162,\n",
       " 'indic': 104,\n",
       " 'led': 122,\n",
       " 'gave': 83,\n",
       " 'major': 129,\n",
       " 'lower': 127,\n",
       " 'hous': 98,\n",
       " 'lok': 125,\n",
       " 'sabha': 198,\n",
       " 'singl': 209,\n",
       " 'tri': 231,\n",
       " 'foreign': 77,\n",
       " 'direct': 54,\n",
       " 'invest': 109,\n",
       " 'economi': 59,\n",
       " 'reduc': 182,\n",
       " 'spend': 214,\n",
       " 'healthcar': 90,\n",
       " 'social': 211,\n",
       " 'welfar': 240,\n",
       " 'programm': 168,\n",
       " 'centralis': 26,\n",
       " 'power': 163,\n",
       " 'abolish': 2,\n",
       " 'plan': 156,\n",
       " 'commiss': 31,\n",
       " 'replac': 188,\n",
       " 'niti': 140,\n",
       " 'aayog': 0,\n",
       " 'began': 18,\n",
       " 'high': 95,\n",
       " 'profil': 167,\n",
       " 'sanit': 200,\n",
       " 'campaign': 24,\n",
       " 'controversi': 38,\n",
       " 'demonetis': 50,\n",
       " 'denomin': 51,\n",
       " 'banknot': 16,\n",
       " 'transform': 229,\n",
       " 'taxat': 221,\n",
       " 'regim': 183,\n",
       " 'weaken': 239,\n",
       " 'environment': 67,\n",
       " 'labour': 117,\n",
       " 'oversaw': 147,\n",
       " 'countri': 39,\n",
       " 'respons': 190,\n",
       " 'covid': 41,\n",
       " 'pandem': 148,\n",
       " 'consist': 36,\n",
       " 'approv': 11,\n",
       " 'rate': 179,\n",
       " 'tenur': 224,\n",
       " 'experienc': 70,\n",
       " 'democrat': 49,\n",
       " 'backslid': 15,\n",
       " 'victori': 236,\n",
       " 'revok': 193,\n",
       " 'statu': 218,\n",
       " 'jammu': 111,\n",
       " 'kashmir': 114,\n",
       " 'citizenship': 30,\n",
       " 'amend': 9,\n",
       " 'act': 5,\n",
       " 'farm': 72,\n",
       " 'prompt': 169,\n",
       " 'widespread': 242,\n",
       " 'protest': 171,\n",
       " 'sit': 210,\n",
       " 'in': 101,\n",
       " 'across': 4,\n",
       " 'result': 191,\n",
       " 'formal': 78,\n",
       " 'repeal': 187,\n",
       " 'latter': 119,\n",
       " 'describ': 52,\n",
       " 'engin': 66,\n",
       " 'polit': 158,\n",
       " 'realign': 180,\n",
       " 'toward': 228,\n",
       " 'remain': 185,\n",
       " 'figur': 74,\n",
       " 'domest': 55,\n",
       " 'intern': 107,\n",
       " 'belief': 19,\n",
       " 'handl': 88,\n",
       " 'cite': 29,\n",
       " 'exclusionari': 69,\n",
       " 'agenda': 8}"
      ]
     },
     "execution_count": 61,
     "metadata": {},
     "output_type": "execute_result"
    }
   ],
   "source": [
    "cv.vocabulary_"
   ]
  },
  {
   "cell_type": "code",
   "execution_count": 63,
   "id": "86df6e00",
   "metadata": {},
   "outputs": [
    {
     "data": {
      "text/plain": [
       "(28, 248)"
      ]
     },
     "execution_count": 63,
     "metadata": {},
     "output_type": "execute_result"
    }
   ],
   "source": [
    "X.shape"
   ]
  },
  {
   "cell_type": "code",
   "execution_count": null,
   "id": "f801a39c",
   "metadata": {},
   "outputs": [],
   "source": []
  }
 ],
 "metadata": {
  "kernelspec": {
   "display_name": "Python 3 (ipykernel)",
   "language": "python",
   "name": "python3"
  },
  "language_info": {
   "codemirror_mode": {
    "name": "ipython",
    "version": 3
   },
   "file_extension": ".py",
   "mimetype": "text/x-python",
   "name": "python",
   "nbconvert_exporter": "python",
   "pygments_lexer": "ipython3",
   "version": "3.9.12"
  }
 },
 "nbformat": 4,
 "nbformat_minor": 5
}
